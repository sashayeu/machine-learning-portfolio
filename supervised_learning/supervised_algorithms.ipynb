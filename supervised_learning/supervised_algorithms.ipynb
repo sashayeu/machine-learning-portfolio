{
 "cells": [
  {
   "cell_type": "markdown",
   "id": "thick-timing",
   "metadata": {},
   "source": [
    "# Predicting Heart Attacks in Patients"
   ]
  },
  {
   "cell_type": "markdown",
   "id": "silver-regard",
   "metadata": {},
   "source": [
    "In this element, I am building  supervised learning algorithms to predict whether an individual is going to have a heart attack or not based on various factors. Unlike in the supervised learning element, I am not building these models from scratch, instead I will be using the sklearn implementations. My goal is to choose the best model for this task. \n",
    "\n",
    "I start by importing all the necessary packages."
   ]
  },
  {
   "cell_type": "code",
   "execution_count": 1,
   "id": "acquired-messenger",
   "metadata": {},
   "outputs": [
    {
     "name": "stderr",
     "output_type": "stream",
     "text": [
      "/Users/sashayeutseyeva/opt/anaconda3/envs/csc294/lib/python3.8/site-packages/sklearn/externals/six.py:28: FutureWarning: The module is deprecated in version 0.21 and will be removed in version 0.23 since we've dropped support for Python 2.7. Please rely on the official version of six (https://pypi.org/project/six/).\n",
      "  warnings.warn(\"The module is deprecated in version 0.21 and will be removed \"\n"
     ]
    }
   ],
   "source": [
    "## Import block\n",
    "import numpy as np\n",
    "import pandas as pd\n",
    "import random\n",
    "\n",
    "from sklearn.tree import DecisionTreeClassifier\n",
    "\n",
    "from sklearn.tree import export_graphviz\n",
    "from sklearn.externals.six import StringIO \n",
    "from IPython.display import Image \n",
    "from pydot import graph_from_dot_data\n",
    "\n",
    "from sklearn.neighbors import KNeighborsClassifier\n",
    "from scipy.spatial import distance\n",
    "from sklearn.cluster import KMeans \n",
    "\n",
    "import timeit"
   ]
  },
  {
   "cell_type": "markdown",
   "id": "frozen-valley",
   "metadata": {},
   "source": [
    "## Data Selection and Importing"
   ]
  },
  {
   "cell_type": "markdown",
   "id": "other-immune",
   "metadata": {},
   "source": [
    "The data I will be using is the heart attack prediction dataset found on [Kaggle](https://www.kaggle.com/rashikrahmanpritom/heart-attack-analysis-prediction-dataset). Due to the nature of medical data, this data came from a confidential source so no knowledge is known about this dataset. The variables of this dataset are:\n",
    "- age: The age of the patient.\n",
    "- sex: The sex of the patient.\n",
    "- cp: The chest pain type, where 1 is typical angina, 2 is atypical angina, 3 is non-anginal pain, and 4 is asymptomatic.\n",
    "- trtbps: The resting blood pressure, in mm Hg.\n",
    "- chol: The cholestoral in mg/dl of the patient fetched via BMI sensor.\n",
    "- fbs: Whether the fasting blood sugar is greater than greater than 120 mg/dl (indicated by 1) or smaller than (indicated by 0).\n",
    "- restecg: The resting electrocardiographic results of the patient. 0 is normal, 1 is having an abnormality, and 2 is showing probable or definite left ventricular hypertrophy by Estes' criteria\n",
    "- thalachh: The maximum heart rate achieved.\n",
    "- exng: Whether the patient had exercise induced angina (1 = yes and 0 = no)\n",
    "- oldpeak: No description given\n",
    "- slp: No description given\n",
    "- caa: The number of major vessels (0, 1, or 3)\n",
    "- thall: No description given\n",
    "- output: Whether the patient had a heart attack or not\n",
    "\n",
    "\n",
    "Using this data, I am attempting to answer if it can be predicted whether an individual is having a heart attack. In other words, by looking at all this information, or certain variables, about a person, can they be classified as having a heart attack or not? This question falls under the classification task, since in the end the individuals are classified into one of two groups, heart attack victim or not. This is not clustering because when testing the predictions, there is only one true answer for the value of 'output'."
   ]
  },
  {
   "cell_type": "code",
   "execution_count": 2,
   "id": "cloudy-expert",
   "metadata": {},
   "outputs": [
    {
     "data": {
      "text/html": [
       "<div>\n",
       "<style scoped>\n",
       "    .dataframe tbody tr th:only-of-type {\n",
       "        vertical-align: middle;\n",
       "    }\n",
       "\n",
       "    .dataframe tbody tr th {\n",
       "        vertical-align: top;\n",
       "    }\n",
       "\n",
       "    .dataframe thead th {\n",
       "        text-align: right;\n",
       "    }\n",
       "</style>\n",
       "<table border=\"1\" class=\"dataframe\">\n",
       "  <thead>\n",
       "    <tr style=\"text-align: right;\">\n",
       "      <th></th>\n",
       "      <th>age</th>\n",
       "      <th>sex</th>\n",
       "      <th>cp</th>\n",
       "      <th>trtbps</th>\n",
       "      <th>chol</th>\n",
       "      <th>fbs</th>\n",
       "      <th>restecg</th>\n",
       "      <th>thalachh</th>\n",
       "      <th>exng</th>\n",
       "      <th>oldpeak</th>\n",
       "      <th>slp</th>\n",
       "      <th>caa</th>\n",
       "      <th>thall</th>\n",
       "      <th>output</th>\n",
       "    </tr>\n",
       "  </thead>\n",
       "  <tbody>\n",
       "    <tr>\n",
       "      <th>0</th>\n",
       "      <td>63</td>\n",
       "      <td>1</td>\n",
       "      <td>3</td>\n",
       "      <td>145</td>\n",
       "      <td>233</td>\n",
       "      <td>1</td>\n",
       "      <td>0</td>\n",
       "      <td>150</td>\n",
       "      <td>0</td>\n",
       "      <td>2.3</td>\n",
       "      <td>0</td>\n",
       "      <td>0</td>\n",
       "      <td>1</td>\n",
       "      <td>1</td>\n",
       "    </tr>\n",
       "    <tr>\n",
       "      <th>1</th>\n",
       "      <td>37</td>\n",
       "      <td>1</td>\n",
       "      <td>2</td>\n",
       "      <td>130</td>\n",
       "      <td>250</td>\n",
       "      <td>0</td>\n",
       "      <td>1</td>\n",
       "      <td>187</td>\n",
       "      <td>0</td>\n",
       "      <td>3.5</td>\n",
       "      <td>0</td>\n",
       "      <td>0</td>\n",
       "      <td>2</td>\n",
       "      <td>1</td>\n",
       "    </tr>\n",
       "    <tr>\n",
       "      <th>2</th>\n",
       "      <td>41</td>\n",
       "      <td>0</td>\n",
       "      <td>1</td>\n",
       "      <td>130</td>\n",
       "      <td>204</td>\n",
       "      <td>0</td>\n",
       "      <td>0</td>\n",
       "      <td>172</td>\n",
       "      <td>0</td>\n",
       "      <td>1.4</td>\n",
       "      <td>2</td>\n",
       "      <td>0</td>\n",
       "      <td>2</td>\n",
       "      <td>1</td>\n",
       "    </tr>\n",
       "    <tr>\n",
       "      <th>3</th>\n",
       "      <td>56</td>\n",
       "      <td>1</td>\n",
       "      <td>1</td>\n",
       "      <td>120</td>\n",
       "      <td>236</td>\n",
       "      <td>0</td>\n",
       "      <td>1</td>\n",
       "      <td>178</td>\n",
       "      <td>0</td>\n",
       "      <td>0.8</td>\n",
       "      <td>2</td>\n",
       "      <td>0</td>\n",
       "      <td>2</td>\n",
       "      <td>1</td>\n",
       "    </tr>\n",
       "    <tr>\n",
       "      <th>4</th>\n",
       "      <td>57</td>\n",
       "      <td>0</td>\n",
       "      <td>0</td>\n",
       "      <td>120</td>\n",
       "      <td>354</td>\n",
       "      <td>0</td>\n",
       "      <td>1</td>\n",
       "      <td>163</td>\n",
       "      <td>1</td>\n",
       "      <td>0.6</td>\n",
       "      <td>2</td>\n",
       "      <td>0</td>\n",
       "      <td>2</td>\n",
       "      <td>1</td>\n",
       "    </tr>\n",
       "  </tbody>\n",
       "</table>\n",
       "</div>"
      ],
      "text/plain": [
       "   age  sex  cp  trtbps  chol  fbs  restecg  thalachh  exng  oldpeak  slp  \\\n",
       "0   63    1   3     145   233    1        0       150     0      2.3    0   \n",
       "1   37    1   2     130   250    0        1       187     0      3.5    0   \n",
       "2   41    0   1     130   204    0        0       172     0      1.4    2   \n",
       "3   56    1   1     120   236    0        1       178     0      0.8    2   \n",
       "4   57    0   0     120   354    0        1       163     1      0.6    2   \n",
       "\n",
       "   caa  thall  output  \n",
       "0    0      1       1  \n",
       "1    0      2       1  \n",
       "2    0      2       1  \n",
       "3    0      2       1  \n",
       "4    0      2       1  "
      ]
     },
     "execution_count": 2,
     "metadata": {},
     "output_type": "execute_result"
    }
   ],
   "source": [
    "#importing all the data files\n",
    "data_pd = pd.read_csv(\"heart.csv\", sep = \",\")\n",
    "\n",
    "data_pd.head()"
   ]
  },
  {
   "cell_type": "markdown",
   "id": "adjacent-muslim",
   "metadata": {},
   "source": [
    "To make my models, I will be using age, cholesterol level, resting blood pressure and maximum heart rate achieved. I am choosing to focus on these variables because of previous [research](https://www.heart.org/en/health-topics/heart-attack/understand-your-risks-to-prevent-a-heart-attack) that confirms these variables are all associated with heart attack. As a result, I want to drop all other variables for simplicity."
   ]
  },
  {
   "cell_type": "code",
   "execution_count": 3,
   "id": "studied-concern",
   "metadata": {},
   "outputs": [
    {
     "data": {
      "text/html": [
       "<div>\n",
       "<style scoped>\n",
       "    .dataframe tbody tr th:only-of-type {\n",
       "        vertical-align: middle;\n",
       "    }\n",
       "\n",
       "    .dataframe tbody tr th {\n",
       "        vertical-align: top;\n",
       "    }\n",
       "\n",
       "    .dataframe thead th {\n",
       "        text-align: right;\n",
       "    }\n",
       "</style>\n",
       "<table border=\"1\" class=\"dataframe\">\n",
       "  <thead>\n",
       "    <tr style=\"text-align: right;\">\n",
       "      <th></th>\n",
       "      <th>age</th>\n",
       "      <th>trtbps</th>\n",
       "      <th>chol</th>\n",
       "      <th>thalachh</th>\n",
       "      <th>output</th>\n",
       "    </tr>\n",
       "  </thead>\n",
       "  <tbody>\n",
       "    <tr>\n",
       "      <th>0</th>\n",
       "      <td>63</td>\n",
       "      <td>145</td>\n",
       "      <td>233</td>\n",
       "      <td>150</td>\n",
       "      <td>1</td>\n",
       "    </tr>\n",
       "    <tr>\n",
       "      <th>1</th>\n",
       "      <td>37</td>\n",
       "      <td>130</td>\n",
       "      <td>250</td>\n",
       "      <td>187</td>\n",
       "      <td>1</td>\n",
       "    </tr>\n",
       "    <tr>\n",
       "      <th>2</th>\n",
       "      <td>41</td>\n",
       "      <td>130</td>\n",
       "      <td>204</td>\n",
       "      <td>172</td>\n",
       "      <td>1</td>\n",
       "    </tr>\n",
       "    <tr>\n",
       "      <th>3</th>\n",
       "      <td>56</td>\n",
       "      <td>120</td>\n",
       "      <td>236</td>\n",
       "      <td>178</td>\n",
       "      <td>1</td>\n",
       "    </tr>\n",
       "    <tr>\n",
       "      <th>4</th>\n",
       "      <td>57</td>\n",
       "      <td>120</td>\n",
       "      <td>354</td>\n",
       "      <td>163</td>\n",
       "      <td>1</td>\n",
       "    </tr>\n",
       "    <tr>\n",
       "      <th>...</th>\n",
       "      <td>...</td>\n",
       "      <td>...</td>\n",
       "      <td>...</td>\n",
       "      <td>...</td>\n",
       "      <td>...</td>\n",
       "    </tr>\n",
       "    <tr>\n",
       "      <th>298</th>\n",
       "      <td>57</td>\n",
       "      <td>140</td>\n",
       "      <td>241</td>\n",
       "      <td>123</td>\n",
       "      <td>0</td>\n",
       "    </tr>\n",
       "    <tr>\n",
       "      <th>299</th>\n",
       "      <td>45</td>\n",
       "      <td>110</td>\n",
       "      <td>264</td>\n",
       "      <td>132</td>\n",
       "      <td>0</td>\n",
       "    </tr>\n",
       "    <tr>\n",
       "      <th>300</th>\n",
       "      <td>68</td>\n",
       "      <td>144</td>\n",
       "      <td>193</td>\n",
       "      <td>141</td>\n",
       "      <td>0</td>\n",
       "    </tr>\n",
       "    <tr>\n",
       "      <th>301</th>\n",
       "      <td>57</td>\n",
       "      <td>130</td>\n",
       "      <td>131</td>\n",
       "      <td>115</td>\n",
       "      <td>0</td>\n",
       "    </tr>\n",
       "    <tr>\n",
       "      <th>302</th>\n",
       "      <td>57</td>\n",
       "      <td>130</td>\n",
       "      <td>236</td>\n",
       "      <td>174</td>\n",
       "      <td>0</td>\n",
       "    </tr>\n",
       "  </tbody>\n",
       "</table>\n",
       "<p>303 rows × 5 columns</p>\n",
       "</div>"
      ],
      "text/plain": [
       "     age  trtbps  chol  thalachh  output\n",
       "0     63     145   233       150       1\n",
       "1     37     130   250       187       1\n",
       "2     41     130   204       172       1\n",
       "3     56     120   236       178       1\n",
       "4     57     120   354       163       1\n",
       "..   ...     ...   ...       ...     ...\n",
       "298   57     140   241       123       0\n",
       "299   45     110   264       132       0\n",
       "300   68     144   193       141       0\n",
       "301   57     130   131       115       0\n",
       "302   57     130   236       174       0\n",
       "\n",
       "[303 rows x 5 columns]"
      ]
     },
     "execution_count": 3,
     "metadata": {},
     "output_type": "execute_result"
    }
   ],
   "source": [
    "#Dropping unecessary variables and observations containing null values\n",
    "data_pd = data_pd.drop(labels = ['sex','cp','fbs','restecg','exng','oldpeak','slp','thall','caa'], axis = 1)\n",
    "data_pd = data_pd.dropna(axis=0)\n",
    "\n",
    "data_pd"
   ]
  },
  {
   "cell_type": "markdown",
   "id": "incoming-casino",
   "metadata": {},
   "source": [
    "Finally, I want to shuffle my data so that not all the heart attack victims are at the top. This helps with division of cross validation."
   ]
  },
  {
   "cell_type": "code",
   "execution_count": 4,
   "id": "human-expression",
   "metadata": {},
   "outputs": [
    {
     "data": {
      "text/html": [
       "<div>\n",
       "<style scoped>\n",
       "    .dataframe tbody tr th:only-of-type {\n",
       "        vertical-align: middle;\n",
       "    }\n",
       "\n",
       "    .dataframe tbody tr th {\n",
       "        vertical-align: top;\n",
       "    }\n",
       "\n",
       "    .dataframe thead th {\n",
       "        text-align: right;\n",
       "    }\n",
       "</style>\n",
       "<table border=\"1\" class=\"dataframe\">\n",
       "  <thead>\n",
       "    <tr style=\"text-align: right;\">\n",
       "      <th></th>\n",
       "      <th>age</th>\n",
       "      <th>trtbps</th>\n",
       "      <th>chol</th>\n",
       "      <th>thalachh</th>\n",
       "      <th>output</th>\n",
       "    </tr>\n",
       "  </thead>\n",
       "  <tbody>\n",
       "    <tr>\n",
       "      <th>201</th>\n",
       "      <td>60</td>\n",
       "      <td>125</td>\n",
       "      <td>258</td>\n",
       "      <td>141</td>\n",
       "      <td>0</td>\n",
       "    </tr>\n",
       "    <tr>\n",
       "      <th>197</th>\n",
       "      <td>67</td>\n",
       "      <td>125</td>\n",
       "      <td>254</td>\n",
       "      <td>163</td>\n",
       "      <td>0</td>\n",
       "    </tr>\n",
       "    <tr>\n",
       "      <th>64</th>\n",
       "      <td>58</td>\n",
       "      <td>140</td>\n",
       "      <td>211</td>\n",
       "      <td>165</td>\n",
       "      <td>1</td>\n",
       "    </tr>\n",
       "    <tr>\n",
       "      <th>134</th>\n",
       "      <td>41</td>\n",
       "      <td>126</td>\n",
       "      <td>306</td>\n",
       "      <td>163</td>\n",
       "      <td>1</td>\n",
       "    </tr>\n",
       "    <tr>\n",
       "      <th>145</th>\n",
       "      <td>70</td>\n",
       "      <td>156</td>\n",
       "      <td>245</td>\n",
       "      <td>143</td>\n",
       "      <td>1</td>\n",
       "    </tr>\n",
       "    <tr>\n",
       "      <th>...</th>\n",
       "      <td>...</td>\n",
       "      <td>...</td>\n",
       "      <td>...</td>\n",
       "      <td>...</td>\n",
       "      <td>...</td>\n",
       "    </tr>\n",
       "    <tr>\n",
       "      <th>199</th>\n",
       "      <td>65</td>\n",
       "      <td>110</td>\n",
       "      <td>248</td>\n",
       "      <td>158</td>\n",
       "      <td>0</td>\n",
       "    </tr>\n",
       "    <tr>\n",
       "      <th>155</th>\n",
       "      <td>58</td>\n",
       "      <td>130</td>\n",
       "      <td>197</td>\n",
       "      <td>131</td>\n",
       "      <td>1</td>\n",
       "    </tr>\n",
       "    <tr>\n",
       "      <th>156</th>\n",
       "      <td>47</td>\n",
       "      <td>130</td>\n",
       "      <td>253</td>\n",
       "      <td>179</td>\n",
       "      <td>1</td>\n",
       "    </tr>\n",
       "    <tr>\n",
       "      <th>133</th>\n",
       "      <td>41</td>\n",
       "      <td>110</td>\n",
       "      <td>235</td>\n",
       "      <td>153</td>\n",
       "      <td>1</td>\n",
       "    </tr>\n",
       "    <tr>\n",
       "      <th>245</th>\n",
       "      <td>48</td>\n",
       "      <td>124</td>\n",
       "      <td>274</td>\n",
       "      <td>166</td>\n",
       "      <td>0</td>\n",
       "    </tr>\n",
       "  </tbody>\n",
       "</table>\n",
       "<p>303 rows × 5 columns</p>\n",
       "</div>"
      ],
      "text/plain": [
       "     age  trtbps  chol  thalachh  output\n",
       "201   60     125   258       141       0\n",
       "197   67     125   254       163       0\n",
       "64    58     140   211       165       1\n",
       "134   41     126   306       163       1\n",
       "145   70     156   245       143       1\n",
       "..   ...     ...   ...       ...     ...\n",
       "199   65     110   248       158       0\n",
       "155   58     130   197       131       1\n",
       "156   47     130   253       179       1\n",
       "133   41     110   235       153       1\n",
       "245   48     124   274       166       0\n",
       "\n",
       "[303 rows x 5 columns]"
      ]
     },
     "execution_count": 4,
     "metadata": {},
     "output_type": "execute_result"
    }
   ],
   "source": [
    "df_random = data_pd.sample(frac=1,random_state=15)\n",
    "\n",
    "df_random"
   ]
  },
  {
   "cell_type": "markdown",
   "id": "geographic-microphone",
   "metadata": {},
   "source": [
    "Now that my dataset is ready, I can convert it to a numpy array and divide the data between rows for cross validation and the validation set. I am reserving 20 percent of the data for the validation set because it is a fairly small dataset with only 303 observations, so a larger validation set helps to produce a more accurate mean squared error."
   ]
  },
  {
   "cell_type": "code",
   "execution_count": 5,
   "id": "wired-shopper",
   "metadata": {},
   "outputs": [],
   "source": [
    "#data_np created to use for models and dividing data\n",
    "data_np = df_random.to_numpy()\n",
    "\n",
    "#Dividing data for cross validation and for validation\n",
    "end_point_data = len(data_np)//10*8\n",
    "\n",
    "CV_data = data_np[0:end_point_data,:]\n",
    "validation_data = data_np[end_point_data:,:]"
   ]
  },
  {
   "cell_type": "markdown",
   "id": "greater-beatles",
   "metadata": {},
   "source": [
    "To help me assess the effectiveness of my models, I write a function that computes the mean squared error for two vectors."
   ]
  },
  {
   "cell_type": "code",
   "execution_count": 6,
   "id": "inner-wedding",
   "metadata": {},
   "outputs": [],
   "source": [
    "# a function to help compute the MSE for two vectors\n",
    "def compute_mse(truth_vec, predict_vec):\n",
    "    return np.mean((truth_vec - predict_vec)**2)"
   ]
  },
  {
   "cell_type": "markdown",
   "id": "enormous-contemporary",
   "metadata": {},
   "source": [
    "## Building Models"
   ]
  },
  {
   "cell_type": "markdown",
   "id": "steady-pressure",
   "metadata": {},
   "source": [
    "### Decision Tree\n",
    "\n",
    "I have decided to use a decision tree as my first model because the four variables used to classify people as heart attack victims or not can be intuitively split up into various decisions. The incremental nature of the age, resting blood pressure, cholesterol, and maximum heart rate ensure the decision tree would not be able to split off with too many possibilities for each node. Furthermore, the fitted decision tree could show which variables are the most important, depending on which variables are represented in the decisions of each node. \n",
    "\n",
    "For simplicity, I will determine the best max_depth for the tree, choosing between 2, 3, and 5. I will implement 5 fold cross validation."
   ]
  },
  {
   "cell_type": "code",
   "execution_count": 7,
   "id": "mighty-ceremony",
   "metadata": {},
   "outputs": [],
   "source": [
    "#5 fold cross validation for different number of depths for decision tree\n",
    "def dt_CV(data,max_depth):\n",
    "    \n",
    "    divisor_num = 5\n",
    "    \n",
    "    data_divisor = len(data)//divisor_num\n",
    "    test_errors = []\n",
    "\n",
    "    for i in range (0,divisor_num):\n",
    "        #splits data into testing and training, if on 10th part of data, takes remaining section of data\n",
    "        if i != divisor_num-1:\n",
    "            training_data = np.delete(data,slice(i*data_divisor,i*data_divisor+data_divisor),0)\n",
    "            testing_data = data[i*data_divisor:i*data_divisor+data_divisor,:]\n",
    "        else:\n",
    "            training_data = np.delete(data,slice(i*data_divisor-1,-1),0)\n",
    "            testing_data = data[i*data_divisor-1:-1,:]\n",
    "        \n",
    "        #assigns in classes and out classes for kNN to be fitted to\n",
    "        in_classes = training_data[:,0:4]\n",
    "        out_class = training_data[:,4]\n",
    "        \n",
    "        #defining the algorithm\n",
    "        dt = DecisionTreeClassifier(max_depth = max_depth)\n",
    "        \n",
    "        #fitting the algorithm to the training data\n",
    "        dt.fit(in_classes, out_class)\n",
    "        \n",
    "        #predicting values for the testing data\n",
    "        all_labels = dt.predict(testing_data[:,0:4])\n",
    "        \n",
    "        #computing the MSE and appending it to the list of all errors\n",
    "        test_error = compute_mse(testing_data[:,4],all_labels)\n",
    "        test_errors.append(test_error)\n",
    "    \n",
    "    #returns the average MSE for kNN with a specified number of neighbours\n",
    "    return np.mean(test_errors)"
   ]
  },
  {
   "cell_type": "code",
   "execution_count": 8,
   "id": "artificial-tokyo",
   "metadata": {},
   "outputs": [
    {
     "name": "stdout",
     "output_type": "stream",
     "text": [
      "The CVE for a decision tree with depth 2 is: 0.35\n",
      "The CVE for a decision tree with depth 3 is: 0.36250000000000004\n",
      "The CVE for a decision tree with depth 5 is: 0.39166666666666666\n"
     ]
    }
   ],
   "source": [
    "# display results of cross validation for various parameters\n",
    "print(\"The CVE for a decision tree with depth 2 is:\",dt_CV(CV_data,2))\n",
    "print(\"The CVE for a decision tree with depth 3 is:\",dt_CV(CV_data,3))\n",
    "print(\"The CVE for a decision tree with depth 5 is:\",dt_CV(CV_data,5))"
   ]
  },
  {
   "cell_type": "markdown",
   "id": "swedish-seller",
   "metadata": {},
   "source": [
    "Since having a depth of 2 gave the lowest means squared error, I will use a decision tree with a max depth of 2 for my first model."
   ]
  },
  {
   "cell_type": "markdown",
   "id": "secret-affiliate",
   "metadata": {},
   "source": [
    "### kNN\n",
    "\n",
    "I have decided to use the kNN algorithm because it can classify datasets into multiple classes (for this dataset I only need it to classify each point into one of two classes), and it also works well with numerical data. There is also flexibility with the number of nearest neighbors to consult for determining a classification.\n",
    "\n",
    "To choose the appropriate number of neighbors for kNN, I will determine the cross validated error for 1,3, and 5 neighbours, choosing the lowest one for my final number of neighbours. I will use 5 fold cross validation to determine the cross-validated error for each number of neighbors. Since the dataset is fairly small, I do not want to make each batch of training data so small the algorithm will be ineffective.\n"
   ]
  },
  {
   "cell_type": "code",
   "execution_count": 9,
   "id": "played-fossil",
   "metadata": {},
   "outputs": [],
   "source": [
    "#5 fold cross validation for different number of neighbors for kNN\n",
    "def kNN_CV(data,n_neighbors):\n",
    "    \n",
    "    data_divisor = len(data)//5\n",
    "    test_errors = []\n",
    "\n",
    "    for i in range (0,5):\n",
    "        #splits data into testing and training, if on 10th part of data, takes remaining section of data\n",
    "        if i != 4:\n",
    "            training_data = np.delete(data,slice(i*data_divisor,i*data_divisor+data_divisor),0)\n",
    "            testing_data = data[i*data_divisor:i*data_divisor+data_divisor,:]\n",
    "        else:\n",
    "            training_data = np.delete(data,slice(i*data_divisor-1,-1),0)\n",
    "            testing_data = data[i*data_divisor-1:-1,:]\n",
    "        \n",
    "        #assigns in classes and out classes for kNN to be fitted to\n",
    "        in_classes = training_data[:,0:4]\n",
    "        out_class = training_data[:,4]\n",
    "        \n",
    "        #defining the algorithm\n",
    "        kNN_alg = KNeighborsClassifier(n_neighbors=n_neighbors)\n",
    "        \n",
    "        #fitting the algorithm to the training data\n",
    "        kNN_alg.fit(in_classes,out_class)\n",
    "        \n",
    "        #predicting values for the testing data\n",
    "        all_labels = kNN_alg.predict(testing_data[:,0:4])\n",
    "        \n",
    "        #computing the MSE and appending it to the list of all errors\n",
    "        test_error = compute_mse(testing_data[:,4],all_labels)\n",
    "        test_errors.append(test_error)\n",
    "    \n",
    "    #returns the average MSE for kNN with a specified number of neighbours\n",
    "    return np.mean(test_errors)\n",
    "        "
   ]
  },
  {
   "cell_type": "code",
   "execution_count": 10,
   "id": "aging-disney",
   "metadata": {},
   "outputs": [
    {
     "name": "stdout",
     "output_type": "stream",
     "text": [
      "The CVE for kNN with 1 neighbor is: 0.4708333333333333\n",
      "The CVE for kNN with 3 neighbor is: 0.3833333333333333\n",
      "The CVE for kNN with 5 neighbor is: 0.3875\n"
     ]
    }
   ],
   "source": [
    "# display results of cross validation for various parameters\n",
    "print(\"The CVE for kNN with 1 neighbor is:\",kNN_CV(CV_data,1))\n",
    "print(\"The CVE for kNN with 3 neighbor is:\",kNN_CV(CV_data,3))\n",
    "print(\"The CVE for kNN with 5 neighbor is:\",kNN_CV(CV_data,5))"
   ]
  },
  {
   "cell_type": "markdown",
   "id": "opened-chance",
   "metadata": {},
   "source": [
    "Since having 3 nearest neighbours gave the lowest means squared error, I will use kNN with 3 neighbors as my second model."
   ]
  },
  {
   "cell_type": "markdown",
   "id": "understood-lindsay",
   "metadata": {},
   "source": [
    "## Building the models\n",
    "\n",
    "To choose the best model, I will evaluate their mean squared error values as well as time both implementations to see how long each takes to run. "
   ]
  },
  {
   "cell_type": "markdown",
   "id": "incoming-laptop",
   "metadata": {},
   "source": [
    "For the decision tree, the optimal max depth I chose was 2. This time, I fit the tree to my entire CV dataset. I also utilize the timeit module to measure how long the process takes. "
   ]
  },
  {
   "cell_type": "code",
   "execution_count": 11,
   "id": "dense-washer",
   "metadata": {},
   "outputs": [
    {
     "name": "stdout",
     "output_type": "stream",
     "text": [
      "299 µs ± 9.06 µs per loop (mean ± std. dev. of 7 runs, 1000 loops each)\n"
     ]
    }
   ],
   "source": [
    "%%timeit\n",
    "#defining the algorithm\n",
    "dt = DecisionTreeClassifier(max_depth = 2)\n",
    "\n",
    "#fitting the algorithm to the training data\n",
    "dt.fit(CV_data[:,0:4], CV_data[:,4])"
   ]
  },
  {
   "cell_type": "code",
   "execution_count": 12,
   "id": "immediate-requirement",
   "metadata": {},
   "outputs": [
    {
     "data": {
      "text/plain": [
       "DecisionTreeClassifier(ccp_alpha=0.0, class_weight=None, criterion='gini',\n",
       "                       max_depth=2, max_features=None, max_leaf_nodes=None,\n",
       "                       min_impurity_decrease=0.0, min_impurity_split=None,\n",
       "                       min_samples_leaf=1, min_samples_split=2,\n",
       "                       min_weight_fraction_leaf=0.0, presort='deprecated',\n",
       "                       random_state=None, splitter='best')"
      ]
     },
     "execution_count": 12,
     "metadata": {},
     "output_type": "execute_result"
    }
   ],
   "source": [
    "#defining the algorithm\n",
    "dt = DecisionTreeClassifier(max_depth = 2)\n",
    "\n",
    "#fitting the algorithm to the training data\n",
    "dt.fit(CV_data[:,0:4], CV_data[:,4])"
   ]
  },
  {
   "cell_type": "markdown",
   "id": "spanish-tribune",
   "metadata": {},
   "source": [
    "Timeit ran this block multiple times to find the average time it took per loop, which was 308 microseconds. This is pretty quick, but it's important to compare it to the runtime of kNN.\n",
    "\n",
    "Now, since decision trees have a cool package where I can visualize it, I can create an image that visualizes the actual decisions of the tree. "
   ]
  },
  {
   "cell_type": "code",
   "execution_count": 13,
   "id": "beautiful-headline",
   "metadata": {},
   "outputs": [
    {
     "data": {
      "image/png": "[encoded data removed]",
      "text/plain": [
       "<IPython.core.display.Image object>"
      ]
     },
     "execution_count": 13,
     "metadata": {},
     "output_type": "execute_result"
    }
   ],
   "source": [
    "var_names = list(data_pd.columns)[0:4]\n",
    "\n",
    "dot_data = StringIO()\n",
    "\n",
    "export_graphviz(dt, out_file=dot_data, feature_names=var_names)\n",
    "(dt_vis, ) = graph_from_dot_data(dot_data.getvalue())\n",
    "\n",
    "Image(dt_vis.create_png())"
   ]
  },
  {
   "cell_type": "markdown",
   "id": "lucky-university",
   "metadata": {},
   "source": [
    "It appears that the maximum heart rate achieved and age were very significant variables and were used to build the tree since those were the only two variables used. "
   ]
  },
  {
   "cell_type": "markdown",
   "id": "conservative-lewis",
   "metadata": {},
   "source": [
    "Now, I build my kNN model with 3 neighbours, timing it in the same way I timed the decision tree:"
   ]
  },
  {
   "cell_type": "code",
   "execution_count": 14,
   "id": "analyzed-blade",
   "metadata": {},
   "outputs": [
    {
     "name": "stdout",
     "output_type": "stream",
     "text": [
      "225 µs ± 11.9 µs per loop (mean ± std. dev. of 7 runs, 1000 loops each)\n"
     ]
    }
   ],
   "source": [
    "%%timeit\n",
    "#defining the algorithm\n",
    "kNN_alg = KNeighborsClassifier(n_neighbors=3)\n",
    "        \n",
    "#fitting the algorithm to the training data\n",
    "kNN_alg.fit(CV_data[:,0:4], CV_data[:,4])"
   ]
  },
  {
   "cell_type": "code",
   "execution_count": 15,
   "id": "native-madonna",
   "metadata": {},
   "outputs": [
    {
     "data": {
      "text/plain": [
       "KNeighborsClassifier(algorithm='auto', leaf_size=30, metric='minkowski',\n",
       "                     metric_params=None, n_jobs=None, n_neighbors=3, p=2,\n",
       "                     weights='uniform')"
      ]
     },
     "execution_count": 15,
     "metadata": {},
     "output_type": "execute_result"
    }
   ],
   "source": [
    "#defining the algorithm\n",
    "kNN_alg = KNeighborsClassifier(n_neighbors=3)\n",
    "        \n",
    "#fitting the algorithm to the training data\n",
    "kNN_alg.fit(CV_data[:,0:4], CV_data[:,4])"
   ]
  },
  {
   "cell_type": "markdown",
   "id": "representative-plasma",
   "metadata": {},
   "source": [
    "It appears as though kNN is quiker when it comes to defining the algorithm and fitting the data, with an average time of 222 microseconds. For now, kNN is the better choice, but the time it takes to predict the new values as well as the mean sum of squares must still be calculated."
   ]
  },
  {
   "cell_type": "markdown",
   "id": "mexican-timer",
   "metadata": {},
   "source": [
    "## Testing on the Validation Set\n",
    "\n",
    "To test on the validation set, I will be running my algorithms, which have been fitted to the rest of the data, and comparing the results to the actual values of the 'output' variable of the validation set through a computation of the mean squared error. I will also be timing how long each takes to predict."
   ]
  },
  {
   "cell_type": "code",
   "execution_count": 16,
   "id": "fewer-healing",
   "metadata": {},
   "outputs": [
    {
     "name": "stdout",
     "output_type": "stream",
     "text": [
      "55.6 µs ± 2.7 µs per loop (mean ± std. dev. of 7 runs, 10000 loops each)\n"
     ]
    }
   ],
   "source": [
    "%%timeit\n",
    "#predicting values for the decision tree\n",
    "all_labels_decision_tree = dt.predict(validation_data[:,0:4])\n"
   ]
  },
  {
   "cell_type": "code",
   "execution_count": 17,
   "id": "assumed-scanner",
   "metadata": {},
   "outputs": [
    {
     "name": "stdout",
     "output_type": "stream",
     "text": [
      "1.88 ms ± 69.7 µs per loop (mean ± std. dev. of 7 runs, 1000 loops each)\n"
     ]
    }
   ],
   "source": [
    "%%timeit\n",
    "#predicting values for the decision tree\n",
    "all_labels_kNN = kNN_alg.predict(validation_data[:,0:4])\n"
   ]
  },
  {
   "cell_type": "markdown",
   "id": "tropical-company",
   "metadata": {},
   "source": [
    "Evidently, the decision tree is much faster at predicting values for the data, taking only 52 microseconds, compared to 1.81 ms for kNN. This may be because it does so by following a few logical questions, achieving the final result quickly. On the other hand, kNN needs to compute the nearest neighbours of all the points, which is costly in time. However, if kNN has a much higher degree of accuracy, indicayed by a smaller MSE, the kNN might be the better choice. \n",
    "\n",
    "Now, to compute the MSE for both algorithms, which will actually show us the effectiveness of both algorithms."
   ]
  },
  {
   "cell_type": "code",
   "execution_count": 18,
   "id": "alleged-tonight",
   "metadata": {},
   "outputs": [
    {
     "name": "stdout",
     "output_type": "stream",
     "text": [
      "The mean squared error for the decision tree is: 0.2698412698412698\n",
      "The mean squared error for kNN is: 0.38095238095238093\n"
     ]
    }
   ],
   "source": [
    "all_labels_decision_tree = dt.predict(validation_data[:,0:4])\n",
    "all_labels_kNN = kNN_alg.predict(validation_data[:,0:4])\n",
    "\n",
    "dt_MSE = compute_mse(validation_data[:,4],all_labels_decision_tree)\n",
    "kNN_MSE = compute_mse(validation_data[:,4],all_labels_kNN)\n",
    "\n",
    "print(\"The mean squared error for the decision tree is:\",dt_MSE)\n",
    "print(\"The mean squared error for kNN is:\",kNN_MSE)"
   ]
  },
  {
   "cell_type": "markdown",
   "id": "fancy-neighborhood",
   "metadata": {},
   "source": [
    "With a mean squared error of only 0.27, and a running time that greatly outperforms kNN's, the decision tree is the obvious choice for this dataset. \n",
    "\n",
    "Although the decision tree is the better choice, I would not call it an extremely effective model, given an MSE of 0.27. However, for something as complex and varied as the biological phenomenon of a heart attack, I guess it may be hard to consult only a few variables to give the correct diagnosis. I am glad that currently, we still have human doctors who do this, instead of machine learning algorithms. However, models like these, although simplified, could be used in the future for applications like these."
   ]
  },
  {
   "cell_type": "markdown",
   "id": "smooth-impression",
   "metadata": {},
   "source": [
    "#### Resources consulted \n",
    "\n",
    "0. [time vs timeit](https://stackoverflow.com/questions/17579357/time-time-vs-timeit-timeit)\n",
    "1. [Heart Attack Dataset]()"
   ]
  }
 ],
 "metadata": {
  "kernelspec": {
   "display_name": "Python 3",
   "language": "python",
   "name": "python3"
  },
  "language_info": {
   "codemirror_mode": {
    "name": "ipython",
    "version": 3
   },
   "file_extension": ".py",
   "mimetype": "text/x-python",
   "name": "python",
   "nbconvert_exporter": "python",
   "pygments_lexer": "ipython3",
   "version": "3.8.5"
  }
 },
 "nbformat": 4,
 "nbformat_minor": 5
}
