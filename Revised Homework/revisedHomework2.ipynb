{
 "cells": [
  {
   "cell_type": "markdown",
   "metadata": {},
   "source": [
    "## Revised Homework 2 : Cold k-means\n",
    "\n",
    "In this element, I am attempting to group countries together using k-means, using exports, income, and GDP per capita to group them together. The k-means is my cold implementation. "
   ]
  },
  {
   "cell_type": "code",
   "execution_count": 1,
   "metadata": {},
   "outputs": [],
   "source": [
    "#importing packages\n",
    "from scipy.spatial import distance  \n",
    "import pandas as pd\n",
    "import numpy as np\n",
    "import matplotlib.pyplot as plt"
   ]
  },
  {
   "cell_type": "code",
   "execution_count": 2,
   "metadata": {},
   "outputs": [
    {
     "data": {
      "text/html": [
       "<div>\n",
       "<style scoped>\n",
       "    .dataframe tbody tr th:only-of-type {\n",
       "        vertical-align: middle;\n",
       "    }\n",
       "\n",
       "    .dataframe tbody tr th {\n",
       "        vertical-align: top;\n",
       "    }\n",
       "\n",
       "    .dataframe thead th {\n",
       "        text-align: right;\n",
       "    }\n",
       "</style>\n",
       "<table border=\"1\" class=\"dataframe\">\n",
       "  <thead>\n",
       "    <tr style=\"text-align: right;\">\n",
       "      <th></th>\n",
       "      <th>country</th>\n",
       "      <th>child_mort</th>\n",
       "      <th>exports</th>\n",
       "      <th>health</th>\n",
       "      <th>imports</th>\n",
       "      <th>income</th>\n",
       "      <th>inflation</th>\n",
       "      <th>life_expec</th>\n",
       "      <th>total_fer</th>\n",
       "      <th>gdpp</th>\n",
       "    </tr>\n",
       "  </thead>\n",
       "  <tbody>\n",
       "    <tr>\n",
       "      <th>0</th>\n",
       "      <td>Afghanistan</td>\n",
       "      <td>90.2</td>\n",
       "      <td>10.0</td>\n",
       "      <td>7.58</td>\n",
       "      <td>44.9</td>\n",
       "      <td>1610</td>\n",
       "      <td>9.44</td>\n",
       "      <td>56.2</td>\n",
       "      <td>5.82</td>\n",
       "      <td>553</td>\n",
       "    </tr>\n",
       "    <tr>\n",
       "      <th>1</th>\n",
       "      <td>Albania</td>\n",
       "      <td>16.6</td>\n",
       "      <td>28.0</td>\n",
       "      <td>6.55</td>\n",
       "      <td>48.6</td>\n",
       "      <td>9930</td>\n",
       "      <td>4.49</td>\n",
       "      <td>76.3</td>\n",
       "      <td>1.65</td>\n",
       "      <td>4090</td>\n",
       "    </tr>\n",
       "    <tr>\n",
       "      <th>2</th>\n",
       "      <td>Algeria</td>\n",
       "      <td>27.3</td>\n",
       "      <td>38.4</td>\n",
       "      <td>4.17</td>\n",
       "      <td>31.4</td>\n",
       "      <td>12900</td>\n",
       "      <td>16.10</td>\n",
       "      <td>76.5</td>\n",
       "      <td>2.89</td>\n",
       "      <td>4460</td>\n",
       "    </tr>\n",
       "    <tr>\n",
       "      <th>3</th>\n",
       "      <td>Angola</td>\n",
       "      <td>119.0</td>\n",
       "      <td>62.3</td>\n",
       "      <td>2.85</td>\n",
       "      <td>42.9</td>\n",
       "      <td>5900</td>\n",
       "      <td>22.40</td>\n",
       "      <td>60.1</td>\n",
       "      <td>6.16</td>\n",
       "      <td>3530</td>\n",
       "    </tr>\n",
       "    <tr>\n",
       "      <th>4</th>\n",
       "      <td>Antigua and Barbuda</td>\n",
       "      <td>10.3</td>\n",
       "      <td>45.5</td>\n",
       "      <td>6.03</td>\n",
       "      <td>58.9</td>\n",
       "      <td>19100</td>\n",
       "      <td>1.44</td>\n",
       "      <td>76.8</td>\n",
       "      <td>2.13</td>\n",
       "      <td>12200</td>\n",
       "    </tr>\n",
       "  </tbody>\n",
       "</table>\n",
       "</div>"
      ],
      "text/plain": [
       "               country  child_mort  exports  health  imports  income  \\\n",
       "0          Afghanistan        90.2     10.0    7.58     44.9    1610   \n",
       "1              Albania        16.6     28.0    6.55     48.6    9930   \n",
       "2              Algeria        27.3     38.4    4.17     31.4   12900   \n",
       "3               Angola       119.0     62.3    2.85     42.9    5900   \n",
       "4  Antigua and Barbuda        10.3     45.5    6.03     58.9   19100   \n",
       "\n",
       "   inflation  life_expec  total_fer   gdpp  \n",
       "0       9.44        56.2       5.82    553  \n",
       "1       4.49        76.3       1.65   4090  \n",
       "2      16.10        76.5       2.89   4460  \n",
       "3      22.40        60.1       6.16   3530  \n",
       "4       1.44        76.8       2.13  12200  "
      ]
     },
     "execution_count": 2,
     "metadata": {},
     "output_type": "execute_result"
    }
   ],
   "source": [
    "#importing data\n",
    "data = pd.read_csv(\"Country-data.csv\", sep= \",\")\n",
    "data_NP = data.to_numpy()\n",
    "\n",
    "data.head()"
   ]
  },
  {
   "cell_type": "code",
   "execution_count": 3,
   "metadata": {},
   "outputs": [
    {
     "data": {
      "text/html": [
       "<div>\n",
       "<style scoped>\n",
       "    .dataframe tbody tr th:only-of-type {\n",
       "        vertical-align: middle;\n",
       "    }\n",
       "\n",
       "    .dataframe tbody tr th {\n",
       "        vertical-align: top;\n",
       "    }\n",
       "\n",
       "    .dataframe thead th {\n",
       "        text-align: right;\n",
       "    }\n",
       "</style>\n",
       "<table border=\"1\" class=\"dataframe\">\n",
       "  <thead>\n",
       "    <tr style=\"text-align: right;\">\n",
       "      <th></th>\n",
       "      <th>exports</th>\n",
       "      <th>income</th>\n",
       "      <th>gdpp</th>\n",
       "    </tr>\n",
       "  </thead>\n",
       "  <tbody>\n",
       "    <tr>\n",
       "      <th>0</th>\n",
       "      <td>10.0</td>\n",
       "      <td>1610</td>\n",
       "      <td>553</td>\n",
       "    </tr>\n",
       "    <tr>\n",
       "      <th>1</th>\n",
       "      <td>28.0</td>\n",
       "      <td>9930</td>\n",
       "      <td>4090</td>\n",
       "    </tr>\n",
       "    <tr>\n",
       "      <th>2</th>\n",
       "      <td>38.4</td>\n",
       "      <td>12900</td>\n",
       "      <td>4460</td>\n",
       "    </tr>\n",
       "    <tr>\n",
       "      <th>3</th>\n",
       "      <td>62.3</td>\n",
       "      <td>5900</td>\n",
       "      <td>3530</td>\n",
       "    </tr>\n",
       "    <tr>\n",
       "      <th>4</th>\n",
       "      <td>45.5</td>\n",
       "      <td>19100</td>\n",
       "      <td>12200</td>\n",
       "    </tr>\n",
       "  </tbody>\n",
       "</table>\n",
       "</div>"
      ],
      "text/plain": [
       "   exports  income   gdpp\n",
       "0     10.0    1610    553\n",
       "1     28.0    9930   4090\n",
       "2     38.4   12900   4460\n",
       "3     62.3    5900   3530\n",
       "4     45.5   19100  12200"
      ]
     },
     "execution_count": 3,
     "metadata": {},
     "output_type": "execute_result"
    }
   ],
   "source": [
    "#creating the subset of variables I will use\n",
    "data_subset = data[['exports','income','gdpp']]\n",
    "\n",
    "#dropping rows with NaN values\n",
    "data_subset = data_subset.dropna()\n",
    "data_subset.head()\n"
   ]
  },
  {
   "cell_type": "code",
   "execution_count": 4,
   "metadata": {},
   "outputs": [],
   "source": [
    "#turning subset into numpy array\n",
    "data_subset_NP = data_subset.to_numpy()"
   ]
  },
  {
   "cell_type": "code",
   "execution_count": 5,
   "metadata": {},
   "outputs": [],
   "source": [
    "#normalizing variables in data_subset_NP and creating subsets\n",
    "\n",
    "exports = data_subset_NP[:,0]\n",
    "mx = np.max(exports)\n",
    "mn = np.min(exports)\n",
    "\n",
    "exports_norm = (exports - mn)/(mx - mn)\n",
    "exports_norm = np.around(exports_norm, decimals = 2) \n",
    "\n",
    "income = data_subset_NP[:,1]\n",
    "mx = np.max(income)\n",
    "mn = np.min(income)\n",
    "\n",
    "income_norm = (income - mn)/(mx - mn)\n",
    "income_norm = np.around(income_norm, decimals = 2) \n",
    "\n",
    "gdpp = data_subset_NP[:,2]\n",
    "mx = np.max(gdpp)\n",
    "mn = np.min(gdpp)\n",
    "\n",
    "gdpp_norm = (gdpp - mn)/(mx - mn)\n",
    "gdpp_norm = np.around(gdpp_norm, decimals = 2) \n",
    "\n",
    "# these are all variables against each other\n",
    "exports_vs_income_vs_gdpp = np.stack((exports_norm, income_norm,gdpp_norm),axis=-1)\n",
    "\n",
    "# just exports and GDP per capita\n",
    "exports_vs_gdpp = np.stack((exports_norm, gdpp_norm),axis=-1)\n",
    "\n",
    "# just income and GDP per capita\n",
    "income_vs_gdpp = np.stack((income_norm, gdpp_norm),axis=-1)\n"
   ]
  },
  {
   "cell_type": "code",
   "execution_count": 6,
   "metadata": {},
   "outputs": [],
   "source": [
    "# My cold kmeans implementation, which takes in the array, the number of clusters, and a random state\n",
    "# and outputs the cluster centers, as well as the cluster to which each point belongs to\n",
    "\n",
    "def cold_kmeans(arrayName, k, randomState):\n",
    "    df = pd.DataFrame(arrayName)\n",
    "    \n",
    "    #finding k centers \n",
    "    centers= df.sample(k, random_state = randomState)\n",
    "    centers_np = centers.to_numpy()\n",
    "\n",
    "    #oldCenters, used for storing the centers of the current iteration, is initialized\n",
    "    oldCenters = []\n",
    "\n",
    "    # The centers are recalculated until the centers from the new calculations are equal to the centers \n",
    "    # from the previous calculation. Therefore, the stopping condition is when the clusters stop \n",
    "    # changing and all centers remain the same. \n",
    "    \n",
    "    # To avoid falling into a local minima, a second stopping condition is used: number of iterations\n",
    "    i = 0\n",
    "    \n",
    "    while (not (np.array_equal(oldCenters, centers_np)) and i<300):\n",
    "        #iteration number increased\n",
    "        i+=1\n",
    "        \n",
    "        #old Centers are set to whatever centers were calculated before \n",
    "        oldCenters = np.copy(centers_np)\n",
    "        \n",
    "        #new distances calculated and clusters are assigned\n",
    "        dists = distance.cdist(arrayName, centers_np, 'euclidean')\n",
    "        clusters = np.argmin(dists, axis=1)\n",
    "\n",
    "        #looping over each cluster\n",
    "        for n in range (len(centers_np)):\n",
    "            subset = []\n",
    "            \n",
    "            #adding the indices of the points in each cluster\n",
    "            for i in range (len(clusters)):\n",
    "                if (clusters[i]==n):\n",
    "                    subset.append(i)\n",
    "                    \n",
    "            #taking a subset of the points in the cluster\n",
    "            sub = df.iloc[subset]\n",
    "            \n",
    "            #finding a new center for this cluster and changing its value in centers_np\n",
    "            centers_np[n] = sub.mean(axis=0)\n",
    "    \n",
    "    return centers_np, clusters\n"
   ]
  },
  {
   "cell_type": "code",
   "execution_count": 7,
   "metadata": {},
   "outputs": [],
   "source": [
    "# This function repeatedly runs my kmeans algorithm with different values of k to determine which number\n",
    "# of clusters is ideal.\n",
    "\n",
    "def looping_kmeans(arrayName,kList):\n",
    "\n",
    "    output = []\n",
    "\n",
    "    for k in kList:\n",
    "        within_cluster_sumsqs = 0\n",
    "        \n",
    "        output_of_kmeans = cold_kmeans(arrayName, k, 10)\n",
    "        \n",
    "        centers = output_of_kmeans[0]\n",
    "\n",
    "        for c in range(0,k):\n",
    "            # Extract the cluster's center and associated points:\n",
    "            cluster_center = [centers[c,:]]\n",
    "            cluster_points = arrayName[np.where(output_of_kmeans[1] == c)]\n",
    "            \n",
    "            # Compute the following for each cluster:\n",
    "            cluster_spread = distance.cdist(cluster_points, cluster_center, 'euclidean')\n",
    "            cluster_total = np.sum(cluster_spread)\n",
    "            \n",
    "            # Add this cluster's within sum of squares to within_cluster_sumsqs\n",
    "            within_cluster_sumsqs = within_cluster_sumsqs + cluster_total\n",
    "        \n",
    "        output.append(within_cluster_sumsqs)\n",
    "    \n",
    "    return output"
   ]
  },
  {
   "cell_type": "code",
   "execution_count": 8,
   "metadata": {},
   "outputs": [
    {
     "data": {
      "text/plain": [
       "<matplotlib.collections.PathCollection at 0x7fb0c074f0d0>"
      ]
     },
     "execution_count": 8,
     "metadata": {},
     "output_type": "execute_result"
    },
    {
     "data": {
      "image/png": "[encoded data removed]",
      "text/plain": [
       "<Figure size 432x288 with 1 Axes>"
      ]
     },
     "metadata": {
      "needs_background": "light"
     },
     "output_type": "display_data"
    }
   ],
   "source": [
    "# A visualization of income vs GDP per capita\n",
    "plt.scatter(x=income_vs_gdpp[:,0],y=income_vs_gdpp[:,1])"
   ]
  },
  {
   "cell_type": "code",
   "execution_count": 9,
   "metadata": {},
   "outputs": [
    {
     "data": {
      "image/png": "[encoded data removed]",
      "text/plain": [
       "<Figure size 432x288 with 1 Axes>"
      ]
     },
     "metadata": {
      "needs_background": "light"
     },
     "output_type": "display_data"
    }
   ],
   "source": [
    "# Determining ideal number of clusters for income vs GDP per capita \n",
    "\n",
    "income_vs_gdpp_cluster_number = looping_kmeans(income_vs_gdpp,[1,2,3,4,5,6,7,8])\n",
    "\n",
    "plt.plot(range(1,9),income_vs_gdpp_cluster_number,marker='o')\n",
    "plt.show()"
   ]
  },
  {
   "cell_type": "code",
   "execution_count": 10,
   "metadata": {},
   "outputs": [
    {
     "data": {
      "text/plain": [
       "<matplotlib.collections.PathCollection at 0x7fb0c09a24f0>"
      ]
     },
     "execution_count": 10,
     "metadata": {},
     "output_type": "execute_result"
    },
    {
     "data": {
      "image/png": "[encoded data removed]",
      "text/plain": [
       "<Figure size 432x288 with 1 Axes>"
      ]
     },
     "metadata": {
      "needs_background": "light"
     },
     "output_type": "display_data"
    }
   ],
   "source": [
    "# There is an unclear elbow, but visually I think the idea number of clusters is 3\n",
    "# To show the centers, I run my kmeans and plot the centers\n",
    "\n",
    "income_vs_gdpp_output = cold_kmeans(income_vs_gdpp, 3, 1)\n",
    "plt.scatter(x=income_vs_gdpp[:,0],y=income_vs_gdpp[:,1],c=income_vs_gdpp_output[1])\n",
    "plt.scatter(income_vs_gdpp_output[0][:, 0], income_vs_gdpp_output[0][:, 1], c='black', marker=\"x\", s=200, alpha=0.75)"
   ]
  },
  {
   "cell_type": "code",
   "execution_count": 11,
   "metadata": {},
   "outputs": [
    {
     "name": "stdout",
     "output_type": "stream",
     "text": [
      "The first group of countries is:\n",
      "Australia, Austria, Belgium, Brunei, Canada, Denmark, Finland, France, Germany, Iceland, Ireland, Japan, Kuwait, Luxembourg, Netherlands, Norway, Qatar, Singapore, Sweden, Switzerland, United Arab Emirates, United Kingdom, United States, \n",
      "\n",
      "The second group of countries is:\n",
      "Afghanistan, Albania, Algeria, Angola, Armenia, Azerbaijan, Bangladesh, Belarus, Belize, Benin, Bhutan, Bolivia, Bosnia and Herzegovina, Botswana, Brazil, Bulgaria, Burkina Faso, Burundi, Cambodia, Cameroon, Cape Verde, Central African Republic, Chad, China, Colombia, Comoros, Congo, Dem. Rep., Congo, Rep., Costa Rica, Cote d'Ivoire, Dominican Republic, Ecuador, Egypt, El Salvador, Eritrea, Fiji, Gabon, Gambia, Georgia, Ghana, Grenada, Guatemala, Guinea, Guinea-Bissau, Guyana, Haiti, India, Indonesia, Iran, Iraq, Jamaica, Jordan, Kenya, Kiribati, Kyrgyz Republic, Lao, Lebanon, Lesotho, Liberia, Macedonia, FYR, Madagascar, Malawi, Maldives, Mali, Mauritania, Mauritius, Micronesia, Fed. Sts., Moldova, Mongolia, Montenegro, Morocco, Mozambique, Myanmar, Namibia, Nepal, Niger, Nigeria, Pakistan, Panama, Paraguay, Peru, Philippines, Romania, Rwanda, Samoa, Senegal, Serbia, Sierra Leone, Solomon Islands, South Africa, Sri Lanka, St. Vincent and the Grenadines, Sudan, Suriname, Tajikistan, Tanzania, Thailand, Timor-Leste, Togo, Tonga, Tunisia, Turkmenistan, Uganda, Ukraine, Uzbekistan, Vanuatu, Vietnam, Yemen, Zambia, \n",
      "\n",
      "The third group of countries is:\n",
      "Antigua and Barbuda, Argentina, Bahamas, Bahrain, Barbados, Chile, Croatia, Cyprus, Czech Republic, Equatorial Guinea, Estonia, Greece, Hungary, Israel, Italy, Kazakhstan, Latvia, Libya, Lithuania, Malaysia, Malta, New Zealand, Oman, Poland, Portugal, Russia, Saudi Arabia, Seychelles, Slovak Republic, Slovenia, South Korea, Spain, Turkey, Uruguay, Venezuela, \n",
      "\n"
     ]
    }
   ],
   "source": [
    "# A list of all the countries in each group\n",
    "\n",
    "print(\"The first group of countries is:\")\n",
    "for i in data_NP[np.where(income_vs_gdpp_output[1] == 0),0]:\n",
    "    for x in i:\n",
    "        print(x,end=\", \")\n",
    "print(\"\\n\")\n",
    "\n",
    "print(\"The second group of countries is:\")\n",
    "for i in data_NP[np.where(income_vs_gdpp_output[1] == 1),0]:\n",
    "    for x in i:\n",
    "        print(x,end=\", \")\n",
    "print(\"\\n\")\n",
    "\n",
    "print(\"The third group of countries is:\")\n",
    "for i in data_NP[np.where(income_vs_gdpp_output[1] == 2),0]:\n",
    "    for x in i:\n",
    "        print(x,end=\", \")\n",
    "print(\"\\n\")\n",
    "\n"
   ]
  },
  {
   "cell_type": "code",
   "execution_count": 12,
   "metadata": {},
   "outputs": [
    {
     "data": {
      "text/plain": [
       "<matplotlib.collections.PathCollection at 0x7fb0c0854880>"
      ]
     },
     "execution_count": 12,
     "metadata": {},
     "output_type": "execute_result"
    },
    {
     "data": {
      "image/png": "[encoded data removed]",
      "text/plain": [
       "<Figure size 432x288 with 1 Axes>"
      ]
     },
     "metadata": {
      "needs_background": "light"
     },
     "output_type": "display_data"
    }
   ],
   "source": [
    "# A visualization of exports vs GDP per capita\n",
    "plt.scatter(x=exports_vs_gdpp[:,0],y=exports_vs_gdpp[:,1])"
   ]
  },
  {
   "cell_type": "code",
   "execution_count": 13,
   "metadata": {},
   "outputs": [
    {
     "data": {
      "image/png": "[encoded data removed]",
      "text/plain": [
       "<Figure size 432x288 with 1 Axes>"
      ]
     },
     "metadata": {
      "needs_background": "light"
     },
     "output_type": "display_data"
    }
   ],
   "source": [
    "# Determining ideal number of clusters for exports vs GDP per capita\n",
    "\n",
    "exports_vs_gdpp_cluster_number = looping_kmeans(exports_vs_gdpp,[1,2,3,4,5,6,7,8])\n",
    "\n",
    "plt.plot(range(1,9),exports_vs_gdpp_cluster_number,marker='o')\n",
    "plt.show()"
   ]
  },
  {
   "cell_type": "code",
   "execution_count": 14,
   "metadata": {},
   "outputs": [
    {
     "data": {
      "text/plain": [
       "<matplotlib.collections.PathCollection at 0x7fb0c0aa8970>"
      ]
     },
     "execution_count": 14,
     "metadata": {},
     "output_type": "execute_result"
    },
    {
     "data": {
      "image/png": "[encoded data removed]",
      "text/plain": [
       "<Figure size 432x288 with 1 Axes>"
      ]
     },
     "metadata": {
      "needs_background": "light"
     },
     "output_type": "display_data"
    }
   ],
   "source": [
    "# There is another unclear elbow, but visually I think the idea number of clusters is 3\n",
    "# To show the centers, I run my kmeans and plot the centers\n",
    "\n",
    "exports_vs_gdpp_output = cold_kmeans(exports_vs_gdpp, 3, 1)\n",
    "plt.scatter(x=exports_vs_gdpp[:,0],y=exports_vs_gdpp[:,1],c=exports_vs_gdpp_output[1])\n",
    "plt.scatter(exports_vs_gdpp_output[0][:, 0], exports_vs_gdpp_output[0][:, 1], c='black', marker=\"x\", s=200, alpha=0.75)"
   ]
  },
  {
   "cell_type": "code",
   "execution_count": 15,
   "metadata": {},
   "outputs": [
    {
     "name": "stdout",
     "output_type": "stream",
     "text": [
      "The first group of countries is:\n",
      "Australia, Austria, Belgium, Brunei, Canada, Denmark, Finland, France, Germany, Iceland, Ireland, Italy, Japan, Kuwait, Luxembourg, Netherlands, New Zealand, Norway, Qatar, Singapore, Sweden, Switzerland, United Arab Emirates, United Kingdom, United States, \n",
      "\n",
      "The second group of countries is:\n",
      "Afghanistan, Albania, Algeria, Argentina, Armenia, Bangladesh, Benin, Bhutan, Bolivia, Bosnia and Herzegovina, Brazil, Burkina Faso, Burundi, Cameroon, Cape Verde, Central African Republic, Chad, China, Colombia, Comoros, Congo, Dem. Rep., Costa Rica, Dominican Republic, Ecuador, Egypt, El Salvador, Eritrea, Gambia, Georgia, Ghana, Greece, Grenada, Guatemala, Guinea, Guinea-Bissau, Haiti, India, Indonesia, Iran, Iraq, Jamaica, Kenya, Kiribati, Lao, Lebanon, Lesotho, Liberia, Macedonia, FYR, Madagascar, Malawi, Mali, Micronesia, Fed. Sts., Moldova, Montenegro, Morocco, Mozambique, Myanmar, Nepal, Niger, Nigeria, Pakistan, Peru, Philippines, Romania, Russia, Rwanda, Samoa, Senegal, Serbia, Sierra Leone, South Africa, Sri Lanka, St. Vincent and the Grenadines, Sudan, Tajikistan, Tanzania, Timor-Leste, Togo, Tonga, Turkey, Uganda, Uruguay, Uzbekistan, Venezuela, Yemen, Zambia, \n",
      "\n",
      "The third group of countries is:\n",
      "Angola, Antigua and Barbuda, Azerbaijan, Bahamas, Bahrain, Barbados, Belarus, Belize, Botswana, Bulgaria, Cambodia, Chile, Congo, Rep., Cote d'Ivoire, Croatia, Cyprus, Czech Republic, Equatorial Guinea, Estonia, Fiji, Gabon, Guyana, Hungary, Israel, Jordan, Kazakhstan, Kyrgyz Republic, Latvia, Libya, Lithuania, Malaysia, Maldives, Malta, Mauritania, Mauritius, Mongolia, Namibia, Oman, Panama, Paraguay, Poland, Portugal, Saudi Arabia, Seychelles, Slovak Republic, Slovenia, Solomon Islands, South Korea, Spain, Suriname, Thailand, Tunisia, Turkmenistan, Ukraine, Vanuatu, Vietnam, \n",
      "\n"
     ]
    }
   ],
   "source": [
    "# A list of all the countries in each group\n",
    "\n",
    "print(\"The first group of countries is:\")\n",
    "for i in data_NP[np.where(exports_vs_gdpp_output[1] == 0),0]:\n",
    "    for x in i:\n",
    "        print(x,end=\", \")\n",
    "print(\"\\n\")\n",
    "\n",
    "print(\"The second group of countries is:\")\n",
    "for i in data_NP[np.where(exports_vs_gdpp_output[1] == 1),0]:\n",
    "    for x in i:\n",
    "        print(x,end=\", \")\n",
    "print(\"\\n\")\n",
    "\n",
    "print(\"The third group of countries is:\")\n",
    "for i in data_NP[np.where(exports_vs_gdpp_output[1] == 2),0]:\n",
    "    for x in i:\n",
    "        print(x,end=\", \")\n",
    "print(\"\\n\")"
   ]
  },
  {
   "cell_type": "code",
   "execution_count": 88,
   "metadata": {},
   "outputs": [],
   "source": [
    "# Include the 3 dimensional visualization"
   ]
  },
  {
   "cell_type": "code",
   "execution_count": 16,
   "metadata": {},
   "outputs": [
    {
     "data": {
      "image/png": "[encoded data removed]",
      "text/plain": [
       "<Figure size 432x288 with 1 Axes>"
      ]
     },
     "metadata": {
      "needs_background": "light"
     },
     "output_type": "display_data"
    }
   ],
   "source": [
    "# Determining ideal number of clusters for all variables\n",
    "\n",
    "exports_vs_income_vs_gdpp_cluster_number = looping_kmeans(exports_vs_income_vs_gdpp,[1,2,3,4,5,6,7,8])\n",
    "\n",
    "plt.plot(range(1,9),exports_vs_income_vs_gdpp_cluster_number,marker='o')\n",
    "plt.show()"
   ]
  },
  {
   "cell_type": "code",
   "execution_count": 17,
   "metadata": {},
   "outputs": [
    {
     "name": "stdout",
     "output_type": "stream",
     "text": [
      "The first group of countries is:\n",
      "Australia, Austria, Belgium, Brunei, Canada, Denmark, Finland, France, Germany, Iceland, Ireland, Italy, Japan, Kuwait, Luxembourg, Netherlands, Norway, Qatar, Singapore, Sweden, Switzerland, United Arab Emirates, United Kingdom, United States, \n",
      "\n",
      "The second group of countries is:\n",
      "Afghanistan, Albania, Algeria, Angola, Argentina, Armenia, Bangladesh, Belize, Benin, Bhutan, Bolivia, Bosnia and Herzegovina, Botswana, Brazil, Burkina Faso, Burundi, Cambodia, Cameroon, Cape Verde, Central African Republic, Chad, China, Colombia, Comoros, Congo, Dem. Rep., Costa Rica, Cote d'Ivoire, Dominican Republic, Ecuador, Egypt, El Salvador, Eritrea, Fiji, Gambia, Georgia, Ghana, Grenada, Guatemala, Guinea, Guinea-Bissau, Guyana, Haiti, India, Indonesia, Iran, Iraq, Jamaica, Jordan, Kenya, Kiribati, Kyrgyz Republic, Lao, Lebanon, Lesotho, Liberia, Macedonia, FYR, Madagascar, Malawi, Mali, Mauritania, Micronesia, Fed. Sts., Moldova, Mongolia, Montenegro, Morocco, Mozambique, Myanmar, Namibia, Nepal, Niger, Nigeria, Pakistan, Paraguay, Peru, Philippines, Romania, Rwanda, Samoa, Senegal, Serbia, Sierra Leone, Solomon Islands, South Africa, Sri Lanka, St. Vincent and the Grenadines, Sudan, Tajikistan, Tanzania, Timor-Leste, Togo, Tonga, Tunisia, Turkey, Uganda, Ukraine, Uruguay, Uzbekistan, Vanuatu, Venezuela, Yemen, Zambia, \n",
      "\n",
      "The third group of countries is:\n",
      "Antigua and Barbuda, Azerbaijan, Bahamas, Bahrain, Barbados, Belarus, Bulgaria, Chile, Congo, Rep., Croatia, Cyprus, Czech Republic, Equatorial Guinea, Estonia, Gabon, Greece, Hungary, Israel, Kazakhstan, Latvia, Libya, Lithuania, Malaysia, Maldives, Malta, Mauritius, New Zealand, Oman, Panama, Poland, Portugal, Russia, Saudi Arabia, Seychelles, Slovak Republic, Slovenia, South Korea, Spain, Suriname, Thailand, Turkmenistan, Vietnam, \n",
      "\n"
     ]
    }
   ],
   "source": [
    "# There is another unclear elbow, but visually I think the idea number of clusters is 3\n",
    "# No visualization since there are 4 variables\n",
    "\n",
    "all_variables_output = cold_kmeans(exports_vs_income_vs_gdpp, 3, 1)\n",
    "\n",
    "# A list of all the countries in each group\n",
    "\n",
    "print(\"The first group of countries is:\")\n",
    "for i in data_NP[np.where(all_variables_output[1] == 0),0]:\n",
    "    for x in i:\n",
    "        print(x,end=\", \")\n",
    "print(\"\\n\")\n",
    "\n",
    "print(\"The second group of countries is:\")\n",
    "for i in data_NP[np.where(all_variables_output[1] == 1),0]:\n",
    "    for x in i:\n",
    "        print(x,end=\", \")\n",
    "print(\"\\n\")\n",
    "\n",
    "print(\"The third group of countries is:\")\n",
    "for i in data_NP[np.where(all_variables_output[1] == 2),0]:\n",
    "    for x in i:\n",
    "        print(x,end=\", \")\n",
    "print(\"\\n\")\n",
    "\n",
    "\n"
   ]
  },
  {
   "cell_type": "code",
   "execution_count": null,
   "metadata": {},
   "outputs": [],
   "source": [
    "# Talk about kmeans implementation, in terms of time and epochs"
   ]
  },
  {
   "cell_type": "code",
   "execution_count": null,
   "metadata": {},
   "outputs": [],
   "source": [
    "# compare my kmeans to sklearn implementation"
   ]
  },
  {
   "cell_type": "code",
   "execution_count": null,
   "metadata": {},
   "outputs": [],
   "source": [
    "# talk about how kmeans can only be used on numerical continuous data since \"distance\" needs to be computed "
   ]
  },
  {
   "cell_type": "markdown",
   "metadata": {},
   "source": [
    "Question 1: Your k-means implementation\n",
    "For this question, you will submit your \"cold\" k-means implementation and include your justification for the stopping condition(s) that you used in your implementations. Your implementation should be called my_kmeans() and should set at three inputs in this order -\n",
    "\n",
    "A numpy array\n",
    "The number of cluster (ie. k)\n",
    "The random_state\n",
    "Your implementation should terminate with output including:\n",
    "\n",
    "The cluster centers\n",
    "Cluster labels for the data points\n",
    "Question 2: Choosing k using elbowology\n",
    "Part A\n",
    "In k-means, we supply the number of clusters that we believe our data has. This means that the choice of k is made without being directly derived from the data. In this question, you will use elbowology to determine the number of clusters that our data falls into.\n",
    "\n",
    "For this question, we will use the students_info.csv for this question. For each of the three variable combinations, please normalize your variables and then do the following:\n",
    "\n",
    "Using either within cluster sum of squares or average cluster cohesion as the measure of cluster \"goodness\", write a function looping_kmeans that perform k-means using sklearn and computes the \"goodness\" of clusters for k=1, k=2, ..., k=10. While the k-means should use the sklearn implementation, the measure of \"goodness\" should be written by you. The inputs should be 1) a numpy array and list of values for k, with the output being the list of the \"goodness\" measures.\n",
    "Plot the values of k against your chosen measure of cluster \"goodness\" as a line plot with each point marked clearly.\n",
    "Examining your plot, find the value of k that is closest to the \"elbow\"; that is where the plot changes directions most sharply. This point should look like the elbow on a bent arm.\n",
    "The variable combinations are:\n",
    "\n",
    "Gym time and average cups of coffee\n",
    "Sleep and GPA\n",
    "All numerical variables within students_info.csv\n",
    "Part B\n",
    "Given your plots above, how many clusters do our students fall into. You must choose one number and justify your choice.\n",
    "\n",
    "Question 3: Limitations of k-means\n",
    "When working with a new method, we need to explore its limitations. For this question, we explore if k-means can work on all data. Considering three kinds of data, please explain if k-means can work on it. If you believe that it can, explain; and if not, offer a counter example.\n",
    "\n",
    "Numerical variables: data that is just numbers, such as human height or outdoor temperature\n",
    "Categorical variables: data that is based on categories or classes, such as coffee/tea preferences or favorite color\n",
    "Ordinal variables: data that is categorical with an agreed upon ordering such as birth month or seasons\n",
    "For each type, would k-means work? If yes, explain why. If not, provide a counter example."
   ]
  },
  {
   "cell_type": "code",
   "execution_count": null,
   "metadata": {},
   "outputs": [],
   "source": []
  }
 ],
 "metadata": {
  "kernelspec": {
   "display_name": "Python 3",
   "language": "python",
   "name": "python3"
  },
  "language_info": {
   "codemirror_mode": {
    "name": "ipython",
    "version": 3
   },
   "file_extension": ".py",
   "mimetype": "text/x-python",
   "name": "python",
   "nbconvert_exporter": "python",
   "pygments_lexer": "ipython3",
   "version": "3.8.5"
  }
 },
 "nbformat": 4,
 "nbformat_minor": 4
}
